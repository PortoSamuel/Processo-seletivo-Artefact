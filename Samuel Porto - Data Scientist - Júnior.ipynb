{
 "cells": [
  {
   "cell_type": "markdown",
   "id": "54a0bfe8",
   "metadata": {},
   "source": [
    "# Imports"
   ]
  },
  {
   "cell_type": "code",
   "execution_count": 1,
   "id": "a98edcdf",
   "metadata": {},
   "outputs": [],
   "source": [
    "import numpy as np\n",
    "import pandas as pd\n",
    "import seaborn as sns\n",
    "import matplotlib.pyplot as plt\n",
    "\n",
    "from sklearn.preprocessing import StandardScaler\n",
    "from sklearn.model_selection import train_test_split, cross_val_score\n",
    "from sklearn.metrics import r2_score, mean_absolute_error, mean_squared_error\n",
    "\n",
    "from sklearn.linear_model import LinearRegression\n",
    "from sklearn.linear_model import Ridge\n",
    "from sklearn.linear_model import Lasso\n",
    "from sklearn.linear_model import ElasticNet\n",
    "from sklearn.ensemble import RandomForestRegressor\n",
    "from xgboost import XGBRegressor\n",
    "from sklearn.svm import SVR\n",
    "from sklearn.preprocessing import PolynomialFeatures"
   ]
  },
  {
   "cell_type": "markdown",
   "id": "32dea502",
   "metadata": {},
   "source": [
    "# Load the data"
   ]
  },
  {
   "cell_type": "code",
   "execution_count": 2,
   "id": "be21deed",
   "metadata": {},
   "outputs": [
    {
     "name": "stdout",
     "output_type": "stream",
     "text": [
      "Index(['EDUCAÇÃO', 'CARGO', 'LOCAL', 'IDADE', 'TEMPOCASA', 'SALARIO_MENSAL'], dtype='object')\n"
     ]
    },
    {
     "data": {
      "text/html": [
       "<div>\n",
       "<style scoped>\n",
       "    .dataframe tbody tr th:only-of-type {\n",
       "        vertical-align: middle;\n",
       "    }\n",
       "\n",
       "    .dataframe tbody tr th {\n",
       "        vertical-align: top;\n",
       "    }\n",
       "\n",
       "    .dataframe thead th {\n",
       "        text-align: right;\n",
       "    }\n",
       "</style>\n",
       "<table border=\"1\" class=\"dataframe\">\n",
       "  <thead>\n",
       "    <tr style=\"text-align: right;\">\n",
       "      <th></th>\n",
       "      <th>EDUCAÇÃO</th>\n",
       "      <th>CARGO</th>\n",
       "      <th>LOCAL</th>\n",
       "      <th>IDADE</th>\n",
       "      <th>TEMPOCASA</th>\n",
       "      <th>SALARIO_MENSAL</th>\n",
       "    </tr>\n",
       "    <tr>\n",
       "      <th>ID</th>\n",
       "      <th></th>\n",
       "      <th></th>\n",
       "      <th></th>\n",
       "      <th></th>\n",
       "      <th></th>\n",
       "      <th></th>\n",
       "    </tr>\n",
       "  </thead>\n",
       "  <tbody>\n",
       "    <tr>\n",
       "      <th>1.0</th>\n",
       "      <td>SECUNDÁRIO</td>\n",
       "      <td>GERENTE</td>\n",
       "      <td>INTERIOR</td>\n",
       "      <td>30.0</td>\n",
       "      <td>1.0</td>\n",
       "      <td>4279.5</td>\n",
       "    </tr>\n",
       "    <tr>\n",
       "      <th>2.0</th>\n",
       "      <td>SUPERIOR</td>\n",
       "      <td>AUXILIAR</td>\n",
       "      <td>INTERIOR</td>\n",
       "      <td>32.0</td>\n",
       "      <td>4.0</td>\n",
       "      <td>4575.4</td>\n",
       "    </tr>\n",
       "    <tr>\n",
       "      <th>3.0</th>\n",
       "      <td>SECUNDÁRIO</td>\n",
       "      <td>AUXILIAR</td>\n",
       "      <td>CAPITAL</td>\n",
       "      <td>33.0</td>\n",
       "      <td>2.0</td>\n",
       "      <td>4735.6</td>\n",
       "    </tr>\n",
       "    <tr>\n",
       "      <th>4.0</th>\n",
       "      <td>SUPERIOR</td>\n",
       "      <td>GERENTE</td>\n",
       "      <td>INTERIOR</td>\n",
       "      <td>34.0</td>\n",
       "      <td>3.0</td>\n",
       "      <td>4863.1</td>\n",
       "    </tr>\n",
       "    <tr>\n",
       "      <th>5.0</th>\n",
       "      <td>SECUNDÁRIO</td>\n",
       "      <td>GERENTE</td>\n",
       "      <td>INTERIOR</td>\n",
       "      <td>36.0</td>\n",
       "      <td>1.0</td>\n",
       "      <td>5355.8</td>\n",
       "    </tr>\n",
       "  </tbody>\n",
       "</table>\n",
       "</div>"
      ],
      "text/plain": [
       "       EDUCAÇÃO     CARGO     LOCAL  IDADE  TEMPOCASA  SALARIO_MENSAL\n",
       "ID                                                                   \n",
       "1.0  SECUNDÁRIO   GERENTE  INTERIOR   30.0        1.0          4279.5\n",
       "2.0    SUPERIOR  AUXILIAR  INTERIOR   32.0        4.0          4575.4\n",
       "3.0  SECUNDÁRIO  AUXILIAR   CAPITAL   33.0        2.0          4735.6\n",
       "4.0    SUPERIOR   GERENTE  INTERIOR   34.0        3.0          4863.1\n",
       "5.0  SECUNDÁRIO   GERENTE  INTERIOR   36.0        1.0          5355.8"
      ]
     },
     "execution_count": 2,
     "metadata": {},
     "output_type": "execute_result"
    }
   ],
   "source": [
    "data = pd.read_excel(\"1st_Phase_-_Selective_Process_-_Data_Science_-_DataBase.xlsx\", index_col = 0)\n",
    "\n",
    "#verificando as features presentes no dataframe\n",
    "print(data.columns)\n",
    "\n",
    "data.head()"
   ]
  },
  {
   "cell_type": "markdown",
   "id": "6e0d7c12",
   "metadata": {},
   "source": [
    "# Exploration"
   ]
  },
  {
   "cell_type": "code",
   "execution_count": 3,
   "id": "fa899653",
   "metadata": {},
   "outputs": [
    {
     "name": "stdout",
     "output_type": "stream",
     "text": [
      "<class 'pandas.core.frame.DataFrame'>\n",
      "Float64Index: 80 entries, 1.0 to 82.0\n",
      "Data columns (total 6 columns):\n",
      " #   Column          Non-Null Count  Dtype  \n",
      "---  ------          --------------  -----  \n",
      " 0   EDUCAÇÃO        80 non-null     object \n",
      " 1   CARGO           80 non-null     object \n",
      " 2   LOCAL           80 non-null     object \n",
      " 3   IDADE           80 non-null     float64\n",
      " 4   TEMPOCASA       80 non-null     float64\n",
      " 5   SALARIO_MENSAL  80 non-null     float64\n",
      "dtypes: float64(3), object(3)\n",
      "memory usage: 4.4+ KB\n"
     ]
    }
   ],
   "source": [
    "#Learning the dtypes of columns' and how many non-null values are there in those columns\n",
    "data.info()"
   ]
  },
  {
   "cell_type": "code",
   "execution_count": 4,
   "id": "c7c28669",
   "metadata": {},
   "outputs": [
    {
     "data": {
      "text/html": [
       "<div>\n",
       "<style scoped>\n",
       "    .dataframe tbody tr th:only-of-type {\n",
       "        vertical-align: middle;\n",
       "    }\n",
       "\n",
       "    .dataframe tbody tr th {\n",
       "        vertical-align: top;\n",
       "    }\n",
       "\n",
       "    .dataframe thead th {\n",
       "        text-align: right;\n",
       "    }\n",
       "</style>\n",
       "<table border=\"1\" class=\"dataframe\">\n",
       "  <thead>\n",
       "    <tr style=\"text-align: right;\">\n",
       "      <th></th>\n",
       "      <th>count</th>\n",
       "      <th>mean</th>\n",
       "      <th>std</th>\n",
       "      <th>min</th>\n",
       "      <th>25%</th>\n",
       "      <th>50%</th>\n",
       "      <th>75%</th>\n",
       "      <th>max</th>\n",
       "    </tr>\n",
       "  </thead>\n",
       "  <tbody>\n",
       "    <tr>\n",
       "      <th>IDADE</th>\n",
       "      <td>80.0</td>\n",
       "      <td>49.7500</td>\n",
       "      <td>9.594962</td>\n",
       "      <td>30.0</td>\n",
       "      <td>43.75</td>\n",
       "      <td>49.00</td>\n",
       "      <td>56.0</td>\n",
       "      <td>72.0</td>\n",
       "    </tr>\n",
       "    <tr>\n",
       "      <th>TEMPOCASA</th>\n",
       "      <td>80.0</td>\n",
       "      <td>10.8875</td>\n",
       "      <td>7.401665</td>\n",
       "      <td>0.0</td>\n",
       "      <td>3.75</td>\n",
       "      <td>12.50</td>\n",
       "      <td>17.0</td>\n",
       "      <td>25.0</td>\n",
       "    </tr>\n",
       "    <tr>\n",
       "      <th>SALARIO_MENSAL</th>\n",
       "      <td>80.0</td>\n",
       "      <td>5777.6225</td>\n",
       "      <td>1138.187752</td>\n",
       "      <td>4186.6</td>\n",
       "      <td>4894.30</td>\n",
       "      <td>5673.45</td>\n",
       "      <td>6306.3</td>\n",
       "      <td>12465.8</td>\n",
       "    </tr>\n",
       "  </tbody>\n",
       "</table>\n",
       "</div>"
      ],
      "text/plain": [
       "                count       mean          std     min      25%      50%  \\\n",
       "IDADE            80.0    49.7500     9.594962    30.0    43.75    49.00   \n",
       "TEMPOCASA        80.0    10.8875     7.401665     0.0     3.75    12.50   \n",
       "SALARIO_MENSAL   80.0  5777.6225  1138.187752  4186.6  4894.30  5673.45   \n",
       "\n",
       "                   75%      max  \n",
       "IDADE             56.0     72.0  \n",
       "TEMPOCASA         17.0     25.0  \n",
       "SALARIO_MENSAL  6306.3  12465.8  "
      ]
     },
     "execution_count": 4,
     "metadata": {},
     "output_type": "execute_result"
    }
   ],
   "source": [
    "#Getting the statistical summary of dataset\n",
    "data.describe().T"
   ]
  },
  {
   "cell_type": "code",
   "execution_count": 5,
   "id": "733d9483",
   "metadata": {},
   "outputs": [
    {
     "data": {
      "image/png": "[encoded data removed]",
      "text/plain": [
       "<Figure size 720x576 with 2 Axes>"
      ]
     },
     "metadata": {
      "needs_background": "light"
     },
     "output_type": "display_data"
    }
   ],
   "source": [
    "#Visualizing the correlations between numerical variables\n",
    "plt.figure(figsize=(10,8))\n",
    "sns.heatmap(data.corr(), cmap=\"RdBu\")\n",
    "plt.title(\"Correlations Between Variables\", size=15)\n",
    "plt.show()"
   ]
  },
  {
   "cell_type": "code",
   "execution_count": 6,
   "id": "97cdf650",
   "metadata": {},
   "outputs": [],
   "source": [
    "#We are selecting numerical features which have more than 0.50 correlation\n",
    "important_num_cols = list(data.corr()[\"SALARIO_MENSAL\"][(data.corr()[\"SALARIO_MENSAL\"]>0.50) | (data.corr()[\"SALARIO_MENSAL\"]<-0.50)].index)\n",
    "cat_cols = ['EDUCAÇÃO', 'CARGO', 'LOCAL']\n",
    "important_cols = important_num_cols + cat_cols"
   ]
  },
  {
   "cell_type": "code",
   "execution_count": 7,
   "id": "bc90c043",
   "metadata": {},
   "outputs": [
    {
     "data": {
      "image/png": "[encoded data removed]",
      "text/plain": [
       "<Figure size 540x540 with 12 Axes>"
      ]
     },
     "metadata": {
      "needs_background": "light"
     },
     "output_type": "display_data"
    }
   ],
   "source": [
    "#Visualizing the Correlation between the numerical variables using pairplot visualization\n",
    "sns.pairplot(data[important_num_cols]);"
   ]
  },
  {
   "cell_type": "code",
   "execution_count": 8,
   "id": "67a1cd2e",
   "metadata": {},
   "outputs": [
    {
     "data": {
      "image/png": "[encoded data removed]",
      "text/plain": [
       "<Figure size 432x432 with 3 Axes>"
      ]
     },
     "metadata": {
      "needs_background": "light"
     },
     "output_type": "display_data"
    },
    {
     "data": {
      "image/png": "[encoded data removed]",
      "text/plain": [
       "<Figure size 432x432 with 3 Axes>"
      ]
     },
     "metadata": {
      "needs_background": "light"
     },
     "output_type": "display_data"
    }
   ],
   "source": [
    "#Visualizing the Correlation between each column and the target variable using jointplot visualization\n",
    "sns.jointplot(x=data[\"IDADE\"], y=data[\"SALARIO_MENSAL\"], kind=\"kde\")\n",
    "sns.jointplot(x=data[\"TEMPOCASA\"], y=data[\"SALARIO_MENSAL\"], kind=\"kde\")\n",
    "plt.show()"
   ]
  },
  {
   "cell_type": "markdown",
   "id": "b814ecb4",
   "metadata": {},
   "source": [
    "# X, y Split"
   ]
  },
  {
   "cell_type": "code",
   "execution_count": 9,
   "id": "8a8a7e7b",
   "metadata": {},
   "outputs": [],
   "source": [
    "#Splitting the data into X and y chunks\n",
    "X = data.drop(\"SALARIO_MENSAL\", axis=1)\n",
    "y = data[\"SALARIO_MENSAL\"]"
   ]
  },
  {
   "cell_type": "markdown",
   "id": "4e10fdd6",
   "metadata": {},
   "source": [
    "# One-Hot Encoding"
   ]
  },
  {
   "cell_type": "code",
   "execution_count": 10,
   "id": "e0d26160",
   "metadata": {},
   "outputs": [],
   "source": [
    "#Encoding the categorical features in X dataset by using One-Hot Encoding method\n",
    "X = pd.get_dummies(X, columns=cat_cols)"
   ]
  },
  {
   "cell_type": "markdown",
   "id": "68d710db",
   "metadata": {},
   "source": [
    "# Standardizing the Data"
   ]
  },
  {
   "cell_type": "code",
   "execution_count": 11,
   "id": "3f9a231a",
   "metadata": {},
   "outputs": [],
   "source": [
    "#Standardizing the numerical columns in X dataset\n",
    "#StandardScaler() adjusts the mean of the features as 0 and standard deviation of features as 1\n",
    "\n",
    "important_num_cols.remove(\"SALARIO_MENSAL\")\n",
    "\n",
    "scaler = StandardScaler()\n",
    "X[important_num_cols] = scaler.fit_transform(X[important_num_cols])"
   ]
  },
  {
   "cell_type": "code",
   "execution_count": 12,
   "id": "cc8324d0",
   "metadata": {},
   "outputs": [
    {
     "data": {
      "text/html": [
       "<div>\n",
       "<style scoped>\n",
       "    .dataframe tbody tr th:only-of-type {\n",
       "        vertical-align: middle;\n",
       "    }\n",
       "\n",
       "    .dataframe tbody tr th {\n",
       "        vertical-align: top;\n",
       "    }\n",
       "\n",
       "    .dataframe thead th {\n",
       "        text-align: right;\n",
       "    }\n",
       "</style>\n",
       "<table border=\"1\" class=\"dataframe\">\n",
       "  <thead>\n",
       "    <tr style=\"text-align: right;\">\n",
       "      <th></th>\n",
       "      <th>IDADE</th>\n",
       "      <th>TEMPOCASA</th>\n",
       "      <th>EDUCAÇÃO_SECUNDÁRIO</th>\n",
       "      <th>EDUCAÇÃO_SUPERIOR</th>\n",
       "      <th>CARGO_AUXILIAR</th>\n",
       "      <th>CARGO_DIRETOR</th>\n",
       "      <th>CARGO_GERENTE</th>\n",
       "      <th>LOCAL_CAPITAL</th>\n",
       "      <th>LOCAL_INTERIOR</th>\n",
       "    </tr>\n",
       "    <tr>\n",
       "      <th>ID</th>\n",
       "      <th></th>\n",
       "      <th></th>\n",
       "      <th></th>\n",
       "      <th></th>\n",
       "      <th></th>\n",
       "      <th></th>\n",
       "      <th></th>\n",
       "      <th></th>\n",
       "      <th></th>\n",
       "    </tr>\n",
       "  </thead>\n",
       "  <tbody>\n",
       "    <tr>\n",
       "      <th>1.0</th>\n",
       "      <td>-2.071359</td>\n",
       "      <td>-1.344276</td>\n",
       "      <td>1</td>\n",
       "      <td>0</td>\n",
       "      <td>0</td>\n",
       "      <td>0</td>\n",
       "      <td>1</td>\n",
       "      <td>0</td>\n",
       "      <td>1</td>\n",
       "    </tr>\n",
       "    <tr>\n",
       "      <th>2.0</th>\n",
       "      <td>-1.861601</td>\n",
       "      <td>-0.936405</td>\n",
       "      <td>0</td>\n",
       "      <td>1</td>\n",
       "      <td>1</td>\n",
       "      <td>0</td>\n",
       "      <td>0</td>\n",
       "      <td>0</td>\n",
       "      <td>1</td>\n",
       "    </tr>\n",
       "    <tr>\n",
       "      <th>3.0</th>\n",
       "      <td>-1.756722</td>\n",
       "      <td>-1.208319</td>\n",
       "      <td>1</td>\n",
       "      <td>0</td>\n",
       "      <td>1</td>\n",
       "      <td>0</td>\n",
       "      <td>0</td>\n",
       "      <td>1</td>\n",
       "      <td>0</td>\n",
       "    </tr>\n",
       "    <tr>\n",
       "      <th>4.0</th>\n",
       "      <td>-1.651843</td>\n",
       "      <td>-1.072362</td>\n",
       "      <td>0</td>\n",
       "      <td>1</td>\n",
       "      <td>0</td>\n",
       "      <td>0</td>\n",
       "      <td>1</td>\n",
       "      <td>0</td>\n",
       "      <td>1</td>\n",
       "    </tr>\n",
       "    <tr>\n",
       "      <th>5.0</th>\n",
       "      <td>-1.442085</td>\n",
       "      <td>-1.344276</td>\n",
       "      <td>1</td>\n",
       "      <td>0</td>\n",
       "      <td>0</td>\n",
       "      <td>0</td>\n",
       "      <td>1</td>\n",
       "      <td>0</td>\n",
       "      <td>1</td>\n",
       "    </tr>\n",
       "  </tbody>\n",
       "</table>\n",
       "</div>"
      ],
      "text/plain": [
       "        IDADE  TEMPOCASA  EDUCAÇÃO_SECUNDÁRIO  EDUCAÇÃO_SUPERIOR  \\\n",
       "ID                                                                 \n",
       "1.0 -2.071359  -1.344276                    1                  0   \n",
       "2.0 -1.861601  -0.936405                    0                  1   \n",
       "3.0 -1.756722  -1.208319                    1                  0   \n",
       "4.0 -1.651843  -1.072362                    0                  1   \n",
       "5.0 -1.442085  -1.344276                    1                  0   \n",
       "\n",
       "     CARGO_AUXILIAR  CARGO_DIRETOR  CARGO_GERENTE  LOCAL_CAPITAL  \\\n",
       "ID                                                                 \n",
       "1.0               0              0              1              0   \n",
       "2.0               1              0              0              0   \n",
       "3.0               1              0              0              1   \n",
       "4.0               0              0              1              0   \n",
       "5.0               0              0              1              0   \n",
       "\n",
       "     LOCAL_INTERIOR  \n",
       "ID                   \n",
       "1.0               1  \n",
       "2.0               1  \n",
       "3.0               0  \n",
       "4.0               1  \n",
       "5.0               1  "
      ]
     },
     "execution_count": 12,
     "metadata": {},
     "output_type": "execute_result"
    }
   ],
   "source": [
    "X.head()"
   ]
  },
  {
   "cell_type": "markdown",
   "id": "26c04a63",
   "metadata": {},
   "source": [
    "# Train-Test Split"
   ]
  },
  {
   "cell_type": "code",
   "execution_count": 13,
   "id": "30cd76f2",
   "metadata": {},
   "outputs": [],
   "source": [
    "#Splitting the data into Train and Test chunks for better evaluation\n",
    "\n",
    "X_train, X_test, y_train, y_test = train_test_split(X, y, test_size=0.2, random_state=42)"
   ]
  },
  {
   "cell_type": "code",
   "execution_count": 14,
   "id": "b477e855",
   "metadata": {},
   "outputs": [],
   "source": [
    "#Defining several evaluation functions for convenience\n",
    "\n",
    "def rmse_cv(model):\n",
    "    rmse = np.sqrt(-cross_val_score(model, X, y, scoring=\"neg_mean_squared_error\", cv=5)).mean()\n",
    "    return rmse\n",
    "    \n",
    "\n",
    "def evaluation(y, predictions):\n",
    "    mae = mean_absolute_error(y, predictions)\n",
    "    mse = mean_squared_error(y, predictions)\n",
    "    rmse = np.sqrt(mean_squared_error(y, predictions))\n",
    "    r_squared = r2_score(y, predictions)\n",
    "    return mae, mse, rmse, r_squared"
   ]
  },
  {
   "cell_type": "markdown",
   "id": "2976ed07",
   "metadata": {},
   "source": [
    "# Machine Learning Models"
   ]
  },
  {
   "cell_type": "code",
   "execution_count": 15,
   "id": "50c61d55",
   "metadata": {},
   "outputs": [],
   "source": [
    "models = pd.DataFrame(columns=[\"Model\",\"MAE\",\"MSE\",\"RMSE\",\"R2 Score\",\"RMSE (Cross-Validation)\"])"
   ]
  },
  {
   "cell_type": "markdown",
   "id": "becc8a6e",
   "metadata": {},
   "source": [
    "# Linear Regression"
   ]
  },
  {
   "cell_type": "code",
   "execution_count": 16,
   "id": "b924b9b0",
   "metadata": {},
   "outputs": [
    {
     "name": "stdout",
     "output_type": "stream",
     "text": [
      "MAE: 678.8996859534302\n",
      "MSE: 2131314.7557464126\n",
      "RMSE: 1459.9023103435422\n",
      "R2 Score: 0.43112629382139245\n",
      "------------------------------\n",
      "RMSE Cross-Validation: 649.2764740379323\n"
     ]
    }
   ],
   "source": [
    "lin_reg = LinearRegression()\n",
    "lin_reg.fit(X_train, y_train)\n",
    "predictions = lin_reg.predict(X_test)\n",
    "\n",
    "mae, mse, rmse, r_squared = evaluation(y_test, predictions)\n",
    "print(\"MAE:\", mae)\n",
    "print(\"MSE:\", mse)\n",
    "print(\"RMSE:\", rmse)\n",
    "print(\"R2 Score:\", r_squared)\n",
    "print(\"-\"*30)\n",
    "rmse_cross_val = rmse_cv(lin_reg)\n",
    "print(\"RMSE Cross-Validation:\", rmse_cross_val)\n",
    "\n",
    "new_row = {\"Model\": \"LinearRegression\",\"MAE\": mae, \"MSE\": mse, \"RMSE\": rmse, \"R2 Score\": r_squared, \"RMSE (Cross-Validation)\": rmse_cross_val}\n",
    "models = models.append(new_row, ignore_index=True)"
   ]
  },
  {
   "cell_type": "markdown",
   "id": "3f2d617b",
   "metadata": {},
   "source": [
    "# Ridge Regression"
   ]
  },
  {
   "cell_type": "code",
   "execution_count": 17,
   "id": "e2703c8c",
   "metadata": {},
   "outputs": [
    {
     "name": "stdout",
     "output_type": "stream",
     "text": [
      "MAE: 690.0776102417602\n",
      "MSE: 2162322.701194841\n",
      "RMSE: 1470.4838323473132\n",
      "R2 Score: 0.42284989785469074\n",
      "------------------------------\n",
      "RMSE Cross-Validation: 650.4418868888682\n"
     ]
    }
   ],
   "source": [
    "ridge = Ridge()\n",
    "ridge.fit(X_train, y_train)\n",
    "predictions = ridge.predict(X_test)\n",
    "\n",
    "mae, mse, rmse, r_squared = evaluation(y_test, predictions)\n",
    "print(\"MAE:\", mae)\n",
    "print(\"MSE:\", mse)\n",
    "print(\"RMSE:\", rmse)\n",
    "print(\"R2 Score:\", r_squared)\n",
    "print(\"-\"*30)\n",
    "rmse_cross_val = rmse_cv(ridge)\n",
    "print(\"RMSE Cross-Validation:\", rmse_cross_val)\n",
    "\n",
    "new_row = {\"Model\": \"Ridge\",\"MAE\": mae, \"MSE\": mse, \"RMSE\": rmse, \"R2 Score\": r_squared, \"RMSE (Cross-Validation)\": rmse_cross_val}\n",
    "models = models.append(new_row, ignore_index=True)"
   ]
  },
  {
   "cell_type": "markdown",
   "id": "0f804686",
   "metadata": {},
   "source": [
    "# Lasso Regression"
   ]
  },
  {
   "cell_type": "code",
   "execution_count": 18,
   "id": "ae257c21",
   "metadata": {},
   "outputs": [
    {
     "name": "stdout",
     "output_type": "stream",
     "text": [
      "MAE: 680.9050891657787\n",
      "MSE: 2138901.6219663196\n",
      "RMSE: 1462.4984177654073\n",
      "R2 Score: 0.4291012673943182\n",
      "------------------------------\n",
      "RMSE Cross-Validation: 649.856442523463\n"
     ]
    }
   ],
   "source": [
    "lasso = Lasso()\n",
    "lasso.fit(X_train, y_train)\n",
    "predictions = lasso.predict(X_test)\n",
    "\n",
    "mae, mse, rmse, r_squared = evaluation(y_test, predictions)\n",
    "print(\"MAE:\", mae)\n",
    "print(\"MSE:\", mse)\n",
    "print(\"RMSE:\", rmse)\n",
    "print(\"R2 Score:\", r_squared)\n",
    "print(\"-\"*30)\n",
    "rmse_cross_val = rmse_cv(lasso)\n",
    "print(\"RMSE Cross-Validation:\", rmse_cross_val)\n",
    "\n",
    "new_row = {\"Model\": \"Lasso\",\"MAE\": mae, \"MSE\": mse, \"RMSE\": rmse, \"R2 Score\": r_squared, \"RMSE (Cross-Validation)\": rmse_cross_val}\n",
    "models = models.append(new_row, ignore_index=True)"
   ]
  },
  {
   "cell_type": "markdown",
   "id": "dc62a2db",
   "metadata": {},
   "source": [
    "# Elastic Net"
   ]
  },
  {
   "cell_type": "code",
   "execution_count": 19,
   "id": "6ad8e5bf",
   "metadata": {},
   "outputs": [
    {
     "name": "stdout",
     "output_type": "stream",
     "text": [
      "MAE: 800.1292451761046\n",
      "MSE: 2507735.240195644\n",
      "RMSE: 1583.583038617061\n",
      "R2 Score: 0.33065511025132976\n",
      "------------------------------\n",
      "RMSE Cross-Validation: 702.8879067118809\n"
     ]
    }
   ],
   "source": [
    "elastic_net = ElasticNet()\n",
    "elastic_net.fit(X_train, y_train)\n",
    "predictions = elastic_net.predict(X_test)\n",
    "\n",
    "mae, mse, rmse, r_squared = evaluation(y_test, predictions)\n",
    "print(\"MAE:\", mae)\n",
    "print(\"MSE:\", mse)\n",
    "print(\"RMSE:\", rmse)\n",
    "print(\"R2 Score:\", r_squared)\n",
    "print(\"-\"*30)\n",
    "rmse_cross_val = rmse_cv(elastic_net)\n",
    "print(\"RMSE Cross-Validation:\", rmse_cross_val)\n",
    "\n",
    "new_row = {\"Model\": \"ElasticNet\",\"MAE\": mae, \"MSE\": mse, \"RMSE\": rmse, \"R2 Score\": r_squared, \"RMSE (Cross-Validation)\": rmse_cross_val}\n",
    "models = models.append(new_row, ignore_index=True)"
   ]
  },
  {
   "cell_type": "markdown",
   "id": "fded0a66",
   "metadata": {},
   "source": [
    "# Support Vector Machines"
   ]
  },
  {
   "cell_type": "code",
   "execution_count": 20,
   "id": "dee8d4e7",
   "metadata": {},
   "outputs": [
    {
     "name": "stdout",
     "output_type": "stream",
     "text": [
      "MAE: 745.8463648754971\n",
      "MSE: 2260205.1589928446\n",
      "RMSE: 1503.39787115482\n",
      "R2 Score: 0.3967238850791067\n",
      "------------------------------\n",
      "RMSE Cross-Validation: 938.5892547822841\n"
     ]
    }
   ],
   "source": [
    "svr = SVR(C=100000)\n",
    "svr.fit(X_train, y_train)\n",
    "predictions = svr.predict(X_test)\n",
    "\n",
    "mae, mse, rmse, r_squared = evaluation(y_test, predictions)\n",
    "print(\"MAE:\", mae)\n",
    "print(\"MSE:\", mse)\n",
    "print(\"RMSE:\", rmse)\n",
    "print(\"R2 Score:\", r_squared)\n",
    "print(\"-\"*30)\n",
    "rmse_cross_val = rmse_cv(svr)\n",
    "print(\"RMSE Cross-Validation:\", rmse_cross_val)\n",
    "\n",
    "new_row = {\"Model\": \"SVR\",\"MAE\": mae, \"MSE\": mse, \"RMSE\": rmse, \"R2 Score\": r_squared, \"RMSE (Cross-Validation)\": rmse_cross_val}\n",
    "models = models.append(new_row, ignore_index=True)"
   ]
  },
  {
   "cell_type": "markdown",
   "id": "91252f17",
   "metadata": {},
   "source": [
    "# Random Forest Regressor"
   ]
  },
  {
   "cell_type": "code",
   "execution_count": 21,
   "id": "f9f49f57",
   "metadata": {},
   "outputs": [
    {
     "name": "stdout",
     "output_type": "stream",
     "text": [
      "MAE: 726.8050624999983\n",
      "MSE: 2329525.3892859314\n",
      "RMSE: 1526.278280421343\n",
      "R2 Score: 0.37822147654763083\n",
      "------------------------------\n",
      "RMSE Cross-Validation: 720.3685439571129\n"
     ]
    }
   ],
   "source": [
    "random_forest = RandomForestRegressor(n_estimators=100)\n",
    "random_forest.fit(X_train, y_train)\n",
    "predictions = random_forest.predict(X_test)\n",
    "\n",
    "mae, mse, rmse, r_squared = evaluation(y_test, predictions)\n",
    "print(\"MAE:\", mae)\n",
    "print(\"MSE:\", mse)\n",
    "print(\"RMSE:\", rmse)\n",
    "print(\"R2 Score:\", r_squared)\n",
    "print(\"-\"*30)\n",
    "rmse_cross_val = rmse_cv(random_forest)\n",
    "print(\"RMSE Cross-Validation:\", rmse_cross_val)\n",
    "\n",
    "new_row = {\"Model\": \"RandomForestRegressor\",\"MAE\": mae, \"MSE\": mse, \"RMSE\": rmse, \"R2 Score\": r_squared, \"RMSE (Cross-Validation)\": rmse_cross_val}\n",
    "models = models.append(new_row, ignore_index=True)"
   ]
  },
  {
   "cell_type": "markdown",
   "id": "96a95055",
   "metadata": {},
   "source": [
    "# XGBoost Regressor"
   ]
  },
  {
   "cell_type": "code",
   "execution_count": 22,
   "id": "ba995fc1",
   "metadata": {},
   "outputs": [
    {
     "name": "stdout",
     "output_type": "stream",
     "text": [
      "MAE: 692.5923461914062\n",
      "MSE: 2365764.640163675\n",
      "RMSE: 1538.1042357927745\n",
      "R2 Score: 0.36854878184105355\n",
      "------------------------------\n",
      "RMSE Cross-Validation: 747.6890404098871\n"
     ]
    }
   ],
   "source": [
    "xgb = XGBRegressor(n_estimators=1000, learning_rate=0.01)\n",
    "xgb.fit(X_train, y_train)\n",
    "predictions = xgb.predict(X_test)\n",
    "\n",
    "mae, mse, rmse, r_squared = evaluation(y_test, predictions)\n",
    "print(\"MAE:\", mae)\n",
    "print(\"MSE:\", mse)\n",
    "print(\"RMSE:\", rmse)\n",
    "print(\"R2 Score:\", r_squared)\n",
    "print(\"-\"*30)\n",
    "rmse_cross_val = rmse_cv(xgb)\n",
    "print(\"RMSE Cross-Validation:\", rmse_cross_val)\n",
    "\n",
    "new_row = {\"Model\": \"XGBRegressor\",\"MAE\": mae, \"MSE\": mse, \"RMSE\": rmse, \"R2 Score\": r_squared, \"RMSE (Cross-Validation)\": rmse_cross_val}\n",
    "models = models.append(new_row, ignore_index=True)"
   ]
  },
  {
   "cell_type": "markdown",
   "id": "a99f0dfc",
   "metadata": {},
   "source": [
    "# Polynomial Regression (Degree=2)"
   ]
  },
  {
   "cell_type": "code",
   "execution_count": 23,
   "id": "48137731",
   "metadata": {},
   "outputs": [
    {
     "name": "stdout",
     "output_type": "stream",
     "text": [
      "MAE: 840.03125\n",
      "MSE: 2227564.2506249994\n",
      "RMSE: 1492.502680273975\n",
      "R2 Score: 0.40543613861471817\n",
      "------------------------------\n",
      "RMSE Cross-Validation: 649.2764740379323\n"
     ]
    }
   ],
   "source": [
    "poly_reg = PolynomialFeatures(degree=2)\n",
    "X_train_2d = poly_reg.fit_transform(X_train)\n",
    "X_test_2d = poly_reg.transform(X_test)\n",
    "\n",
    "lin_reg = LinearRegression()\n",
    "lin_reg.fit(X_train_2d, y_train)\n",
    "predictions = lin_reg.predict(X_test_2d)\n",
    "\n",
    "mae, mse, rmse, r_squared = evaluation(y_test, predictions)\n",
    "print(\"MAE:\", mae)\n",
    "print(\"MSE:\", mse)\n",
    "print(\"RMSE:\", rmse)\n",
    "print(\"R2 Score:\", r_squared)\n",
    "print(\"-\"*30)\n",
    "rmse_cross_val = rmse_cv(lin_reg)\n",
    "print(\"RMSE Cross-Validation:\", rmse_cross_val)\n",
    "\n",
    "new_row = {\"Model\": \"Polynomial Regression (degree=2)\",\"MAE\": mae, \"MSE\": mse, \"RMSE\": rmse, \"R2 Score\": r_squared, \"RMSE (Cross-Validation)\": rmse_cross_val}\n",
    "models = models.append(new_row, ignore_index=True)"
   ]
  },
  {
   "cell_type": "markdown",
   "id": "44fa7f39",
   "metadata": {},
   "source": [
    "# Model Comparison"
   ]
  },
  {
   "cell_type": "code",
   "execution_count": 24,
   "id": "05297213",
   "metadata": {},
   "outputs": [
    {
     "data": {
      "text/html": [
       "<div>\n",
       "<style scoped>\n",
       "    .dataframe tbody tr th:only-of-type {\n",
       "        vertical-align: middle;\n",
       "    }\n",
       "\n",
       "    .dataframe tbody tr th {\n",
       "        vertical-align: top;\n",
       "    }\n",
       "\n",
       "    .dataframe thead th {\n",
       "        text-align: right;\n",
       "    }\n",
       "</style>\n",
       "<table border=\"1\" class=\"dataframe\">\n",
       "  <thead>\n",
       "    <tr style=\"text-align: right;\">\n",
       "      <th></th>\n",
       "      <th>Model</th>\n",
       "      <th>MAE</th>\n",
       "      <th>MSE</th>\n",
       "      <th>RMSE</th>\n",
       "      <th>R2 Score</th>\n",
       "      <th>RMSE (Cross-Validation)</th>\n",
       "    </tr>\n",
       "  </thead>\n",
       "  <tbody>\n",
       "    <tr>\n",
       "      <th>0</th>\n",
       "      <td>LinearRegression</td>\n",
       "      <td>678.899686</td>\n",
       "      <td>2.131315e+06</td>\n",
       "      <td>1459.902310</td>\n",
       "      <td>0.431126</td>\n",
       "      <td>649.276474</td>\n",
       "    </tr>\n",
       "    <tr>\n",
       "      <th>7</th>\n",
       "      <td>Polynomial Regression (degree=2)</td>\n",
       "      <td>840.031250</td>\n",
       "      <td>2.227564e+06</td>\n",
       "      <td>1492.502680</td>\n",
       "      <td>0.405436</td>\n",
       "      <td>649.276474</td>\n",
       "    </tr>\n",
       "    <tr>\n",
       "      <th>2</th>\n",
       "      <td>Lasso</td>\n",
       "      <td>680.905089</td>\n",
       "      <td>2.138902e+06</td>\n",
       "      <td>1462.498418</td>\n",
       "      <td>0.429101</td>\n",
       "      <td>649.856443</td>\n",
       "    </tr>\n",
       "    <tr>\n",
       "      <th>1</th>\n",
       "      <td>Ridge</td>\n",
       "      <td>690.077610</td>\n",
       "      <td>2.162323e+06</td>\n",
       "      <td>1470.483832</td>\n",
       "      <td>0.422850</td>\n",
       "      <td>650.441887</td>\n",
       "    </tr>\n",
       "    <tr>\n",
       "      <th>3</th>\n",
       "      <td>ElasticNet</td>\n",
       "      <td>800.129245</td>\n",
       "      <td>2.507735e+06</td>\n",
       "      <td>1583.583039</td>\n",
       "      <td>0.330655</td>\n",
       "      <td>702.887907</td>\n",
       "    </tr>\n",
       "    <tr>\n",
       "      <th>5</th>\n",
       "      <td>RandomForestRegressor</td>\n",
       "      <td>726.805062</td>\n",
       "      <td>2.329525e+06</td>\n",
       "      <td>1526.278280</td>\n",
       "      <td>0.378221</td>\n",
       "      <td>720.368544</td>\n",
       "    </tr>\n",
       "    <tr>\n",
       "      <th>6</th>\n",
       "      <td>XGBRegressor</td>\n",
       "      <td>692.592346</td>\n",
       "      <td>2.365765e+06</td>\n",
       "      <td>1538.104236</td>\n",
       "      <td>0.368549</td>\n",
       "      <td>747.689040</td>\n",
       "    </tr>\n",
       "    <tr>\n",
       "      <th>4</th>\n",
       "      <td>SVR</td>\n",
       "      <td>745.846365</td>\n",
       "      <td>2.260205e+06</td>\n",
       "      <td>1503.397871</td>\n",
       "      <td>0.396724</td>\n",
       "      <td>938.589255</td>\n",
       "    </tr>\n",
       "  </tbody>\n",
       "</table>\n",
       "</div>"
      ],
      "text/plain": [
       "                              Model         MAE           MSE         RMSE  \\\n",
       "0                  LinearRegression  678.899686  2.131315e+06  1459.902310   \n",
       "7  Polynomial Regression (degree=2)  840.031250  2.227564e+06  1492.502680   \n",
       "2                             Lasso  680.905089  2.138902e+06  1462.498418   \n",
       "1                             Ridge  690.077610  2.162323e+06  1470.483832   \n",
       "3                        ElasticNet  800.129245  2.507735e+06  1583.583039   \n",
       "5             RandomForestRegressor  726.805062  2.329525e+06  1526.278280   \n",
       "6                      XGBRegressor  692.592346  2.365765e+06  1538.104236   \n",
       "4                               SVR  745.846365  2.260205e+06  1503.397871   \n",
       "\n",
       "   R2 Score  RMSE (Cross-Validation)  \n",
       "0  0.431126               649.276474  \n",
       "7  0.405436               649.276474  \n",
       "2  0.429101               649.856443  \n",
       "1  0.422850               650.441887  \n",
       "3  0.330655               702.887907  \n",
       "5  0.378221               720.368544  \n",
       "6  0.368549               747.689040  \n",
       "4  0.396724               938.589255  "
      ]
     },
     "execution_count": 24,
     "metadata": {},
     "output_type": "execute_result"
    }
   ],
   "source": [
    "#The less the Root Mean Squared Error (RMSE), The better the model is.\n",
    "models.sort_values(by=\"RMSE (Cross-Validation)\")"
   ]
  },
  {
   "cell_type": "code",
   "execution_count": 25,
   "id": "1a8b6d88",
   "metadata": {},
   "outputs": [
    {
     "data": {
      "image/png": "[encoded data removed]",
      "text/plain": [
       "<Figure size 864x576 with 1 Axes>"
      ]
     },
     "metadata": {
      "needs_background": "light"
     },
     "output_type": "display_data"
    }
   ],
   "source": [
    "plt.figure(figsize=(12,8))\n",
    "sns.barplot(x=models[\"Model\"], y=models[\"RMSE (Cross-Validation)\"])\n",
    "plt.title(\"Models' RMSE Scores (Cross-Validated)\", size=15)\n",
    "plt.xticks(rotation=30, size=12)\n",
    "plt.show()"
   ]
  },
  {
   "cell_type": "markdown",
   "id": "b740ad87",
   "metadata": {},
   "source": [
    "# Conclusion"
   ]
  },
  {
   "cell_type": "markdown",
   "id": "7c76875a",
   "metadata": {},
   "source": [
    "The linear regression model is the one that best describes the data, using it to predict the salary of an employee but for the 2 different locations it will be possible to verify if there is a significantly different salary between the locations. "
   ]
  },
  {
   "cell_type": "code",
   "execution_count": 75,
   "id": "71900635",
   "metadata": {},
   "outputs": [
    {
     "data": {
      "text/html": [
       "<div>\n",
       "<style scoped>\n",
       "    .dataframe tbody tr th:only-of-type {\n",
       "        vertical-align: middle;\n",
       "    }\n",
       "\n",
       "    .dataframe tbody tr th {\n",
       "        vertical-align: top;\n",
       "    }\n",
       "\n",
       "    .dataframe thead th {\n",
       "        text-align: right;\n",
       "    }\n",
       "</style>\n",
       "<table border=\"1\" class=\"dataframe\">\n",
       "  <thead>\n",
       "    <tr style=\"text-align: right;\">\n",
       "      <th></th>\n",
       "      <th>IDADE</th>\n",
       "      <th>TEMPOCASA</th>\n",
       "      <th>EDUCAÇÃO_SECUNDÁRIO</th>\n",
       "      <th>EDUCAÇÃO_SUPERIOR</th>\n",
       "      <th>CARGO_AUXILIAR</th>\n",
       "      <th>CARGO_DIRETOR</th>\n",
       "      <th>CARGO_GERENTE</th>\n",
       "      <th>LOCAL_CAPITAL</th>\n",
       "      <th>LOCAL_INTERIOR</th>\n",
       "    </tr>\n",
       "    <tr>\n",
       "      <th>ID</th>\n",
       "      <th></th>\n",
       "      <th></th>\n",
       "      <th></th>\n",
       "      <th></th>\n",
       "      <th></th>\n",
       "      <th></th>\n",
       "      <th></th>\n",
       "      <th></th>\n",
       "      <th></th>\n",
       "    </tr>\n",
       "  </thead>\n",
       "  <tbody>\n",
       "    <tr>\n",
       "      <th>1.0</th>\n",
       "      <td>-2.071359</td>\n",
       "      <td>-1.344276</td>\n",
       "      <td>1</td>\n",
       "      <td>0</td>\n",
       "      <td>0</td>\n",
       "      <td>0</td>\n",
       "      <td>1</td>\n",
       "      <td>1</td>\n",
       "      <td>0</td>\n",
       "    </tr>\n",
       "  </tbody>\n",
       "</table>\n",
       "</div>"
      ],
      "text/plain": [
       "        IDADE  TEMPOCASA  EDUCAÇÃO_SECUNDÁRIO  EDUCAÇÃO_SUPERIOR  \\\n",
       "ID                                                                 \n",
       "1.0 -2.071359  -1.344276                    1                  0   \n",
       "\n",
       "     CARGO_AUXILIAR  CARGO_DIRETOR  CARGO_GERENTE  LOCAL_CAPITAL  \\\n",
       "ID                                                                 \n",
       "1.0               0              0              1              1   \n",
       "\n",
       "     LOCAL_INTERIOR  \n",
       "ID                   \n",
       "1.0               0  "
      ]
     },
     "execution_count": 75,
     "metadata": {},
     "output_type": "execute_result"
    }
   ],
   "source": [
    "lin_reg = LinearRegression()\n",
    "lin_reg.fit(X_train, y_train)\n",
    "\n",
    "#Employe with ID = 1 is located at a country city and got the value result1 as prediction of his salary\n",
    "employe1 = X.loc[:1]\n",
    "\n",
    "result1 = lin_reg.predict(employe1)\n",
    "\n",
    "employe.head()"
   ]
  },
  {
   "cell_type": "code",
   "execution_count": 76,
   "id": "3c5e62ed",
   "metadata": {},
   "outputs": [
    {
     "name": "stderr",
     "output_type": "stream",
     "text": [
      "C:\\Users\\SamuelPorto\\anaconda3\\lib\\site-packages\\pandas\\core\\indexing.py:1817: SettingWithCopyWarning: \n",
      "A value is trying to be set on a copy of a slice from a DataFrame.\n",
      "Try using .loc[row_indexer,col_indexer] = value instead\n",
      "\n",
      "See the caveats in the documentation: https://pandas.pydata.org/pandas-docs/stable/user_guide/indexing.html#returning-a-view-versus-a-copy\n",
      "  self._setitem_single_column(loc, value, pi)\n"
     ]
    },
    {
     "data": {
      "text/html": [
       "<div>\n",
       "<style scoped>\n",
       "    .dataframe tbody tr th:only-of-type {\n",
       "        vertical-align: middle;\n",
       "    }\n",
       "\n",
       "    .dataframe tbody tr th {\n",
       "        vertical-align: top;\n",
       "    }\n",
       "\n",
       "    .dataframe thead th {\n",
       "        text-align: right;\n",
       "    }\n",
       "</style>\n",
       "<table border=\"1\" class=\"dataframe\">\n",
       "  <thead>\n",
       "    <tr style=\"text-align: right;\">\n",
       "      <th></th>\n",
       "      <th>IDADE</th>\n",
       "      <th>TEMPOCASA</th>\n",
       "      <th>EDUCAÇÃO_SECUNDÁRIO</th>\n",
       "      <th>EDUCAÇÃO_SUPERIOR</th>\n",
       "      <th>CARGO_AUXILIAR</th>\n",
       "      <th>CARGO_DIRETOR</th>\n",
       "      <th>CARGO_GERENTE</th>\n",
       "      <th>LOCAL_CAPITAL</th>\n",
       "      <th>LOCAL_INTERIOR</th>\n",
       "    </tr>\n",
       "    <tr>\n",
       "      <th>ID</th>\n",
       "      <th></th>\n",
       "      <th></th>\n",
       "      <th></th>\n",
       "      <th></th>\n",
       "      <th></th>\n",
       "      <th></th>\n",
       "      <th></th>\n",
       "      <th></th>\n",
       "      <th></th>\n",
       "    </tr>\n",
       "  </thead>\n",
       "  <tbody>\n",
       "    <tr>\n",
       "      <th>1.0</th>\n",
       "      <td>-2.071359</td>\n",
       "      <td>-1.344276</td>\n",
       "      <td>1</td>\n",
       "      <td>0</td>\n",
       "      <td>0</td>\n",
       "      <td>0</td>\n",
       "      <td>1</td>\n",
       "      <td>0</td>\n",
       "      <td>1</td>\n",
       "    </tr>\n",
       "  </tbody>\n",
       "</table>\n",
       "</div>"
      ],
      "text/plain": [
       "        IDADE  TEMPOCASA  EDUCAÇÃO_SECUNDÁRIO  EDUCAÇÃO_SUPERIOR  \\\n",
       "ID                                                                 \n",
       "1.0 -2.071359  -1.344276                    1                  0   \n",
       "\n",
       "     CARGO_AUXILIAR  CARGO_DIRETOR  CARGO_GERENTE  LOCAL_CAPITAL  \\\n",
       "ID                                                                 \n",
       "1.0               0              0              1              0   \n",
       "\n",
       "     LOCAL_INTERIOR  \n",
       "ID                   \n",
       "1.0               1  "
      ]
     },
     "execution_count": 76,
     "metadata": {},
     "output_type": "execute_result"
    }
   ],
   "source": [
    "#Changing the location of the employe with ID = 1 we got result2 as prediction of his salary\n",
    "employe2 = employe1\n",
    "employe2.loc[:,'LOCAL_CAPITAL'] = 0\n",
    "employe2.loc[:,'LOCAL_INTERIOR'] = 1\n",
    "\n",
    "result2 = lin_reg.predict(employe2)\n",
    "\n",
    "employe2.head()"
   ]
  },
  {
   "cell_type": "code",
   "execution_count": 77,
   "id": "ffaeb06e",
   "metadata": {},
   "outputs": [
    {
     "data": {
      "text/plain": [
       "array([0.98124594])"
      ]
     },
     "execution_count": 77,
     "metadata": {},
     "output_type": "execute_result"
    }
   ],
   "source": [
    "result1/result2"
   ]
  },
  {
   "cell_type": "markdown",
   "id": "5153a63c",
   "metadata": {},
   "source": [
    "As we can se above, the salary prediction of an employe located at a country city it's bigger than the prediction of the same employe if he was located at a capital city.\n",
    "\n",
    "But there's a difference of only 2%, showing us that there isn't a significantly salary difference between employes located in different places."
   ]
  },
  {
   "cell_type": "code",
   "execution_count": null,
   "id": "38ae5cef",
   "metadata": {},
   "outputs": [],
   "source": []
  }
 ],
 "metadata": {
  "kernelspec": {
   "display_name": "Python 3 (ipykernel)",
   "language": "python",
   "name": "python3"
  },
  "language_info": {
   "codemirror_mode": {
    "name": "ipython",
    "version": 3
   },
   "file_extension": ".py",
   "mimetype": "text/x-python",
   "name": "python",
   "nbconvert_exporter": "python",
   "pygments_lexer": "ipython3",
   "version": "3.9.7"
  }
 },
 "nbformat": 4,
 "nbformat_minor": 5
}
